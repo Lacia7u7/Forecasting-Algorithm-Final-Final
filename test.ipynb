{
 "cells": [
  {
   "cell_type": "code",
   "execution_count": 236,
   "metadata": {},
   "outputs": [],
   "source": [
    "def open_session():\n",
    "    # Configura el WebDriver (en este caso, para Chrome)\n",
    "    driver = webdriver.Chrome()\n",
    "    # Accede a la página web\n",
    "    driver.get(\"http://127.0.0.1:5000\")\n",
    "    return driver"
   ]
  },
  {
   "cell_type": "markdown",
   "metadata": {},
   "source": [
    "## Signup"
   ]
  },
  {
   "cell_type": "code",
   "execution_count": 237,
   "metadata": {},
   "outputs": [],
   "source": [
    "def signup(driver, usr, pswd, email, name):\n",
    "    signup_link = driver.find_element(\"xpath\",\"//a[contains(text(), 'Sign Up')]\")\n",
    "    signup_link.click()\n",
    "    time.sleep(2)  # Espera 2 segundos para que la página cargue\n",
    "    # Completa el formulario de SignUp\n",
    "    name_field = driver.find_element(\"id\", \"name\")\n",
    "    email_field = driver.find_element(\"id\", \"email\")\n",
    "    username_field = driver.find_element(\"id\", \"username\")\n",
    "    password_field = driver.find_element(\"id\", \"password\")\n",
    "    username_field.send_keys(usr)\n",
    "    password_field.send_keys(pswd)\n",
    "    name_field.send_keys(name)\n",
    "    email_field.send_keys(email)\n",
    "    signup_link = driver.find_element(\"xpath\",\"//button[contains(text(), 'Sign Up')]\")\n",
    "    signup_link.click()\n",
    "    time.sleep(2)  # Espera 2 segundos para que la página cargue"
   ]
  },
  {
   "cell_type": "markdown",
   "metadata": {},
   "source": [
    "## Login"
   ]
  },
  {
   "cell_type": "code",
   "execution_count": 238,
   "metadata": {},
   "outputs": [],
   "source": [
    "def login(driver, usr, pswd):\n",
    "    username_field = driver.find_element(\"id\", \"username\")\n",
    "    password_field = driver.find_element(\"id\", \"password\")\n",
    "    username_field.send_keys(usr)\n",
    "    password_field.send_keys(pswd)\n",
    "    signup_link = driver.find_element(\"xpath\",\"//button[contains(text(), 'Login')]\")\n",
    "    signup_link.click()\n",
    "    time.sleep(2) "
   ]
  },
  {
   "cell_type": "markdown",
   "metadata": {},
   "source": [
    "## Goto Page"
   ]
  },
  {
   "cell_type": "code",
   "execution_count": 239,
   "metadata": {},
   "outputs": [],
   "source": [
    "def click(driver, xpath):\n",
    "    signup_link = driver.find_element(\"xpath\",xpath)\n",
    "    signup_link.click()\n",
    "    time.sleep(2) "
   ]
  },
  {
   "cell_type": "markdown",
   "metadata": {},
   "source": [
    "## load dataset"
   ]
  },
  {
   "cell_type": "code",
   "execution_count": 240,
   "metadata": {},
   "outputs": [],
   "source": [
    "def load_dataset(driver, dataset_path, dataset_name):\n",
    "    click(driver,\"//a[contains(text(), 'Datasets')]\")\n",
    "    input = driver.find_element(\"xpath\", \"/html/body/div/form[1]/div[1]/input[@type='file']\")\n",
    "    input.send_keys(dataset_path)\n",
    "    time.sleep(2)\n",
    "    input = driver.find_element(\"xpath\", \"//input[@type='text']\")\n",
    "    input.send_keys(dataset_name)\n",
    "    time.sleep(1) \n",
    "    click(driver,\"//button[contains(text(),'Upload CSV')]\")\n",
    "    click(driver,\"//button[contains(text(),'Refresh Table')]\")"
   ]
  },
  {
   "cell_type": "markdown",
   "metadata": {},
   "source": [
    "## create model"
   ]
  },
  {
   "cell_type": "code",
   "execution_count": 241,
   "metadata": {},
   "outputs": [],
   "source": [
    "def create_model(driver, model_name, model_type, max_depth, estimators):\n",
    "    click(driver,\"//a[contains(text(), 'Models')]\")\n",
    "    input = driver.find_element(\"xpath\", \"//input[@id='model_name']\")\n",
    "    input.send_keys(model_name)\n",
    "    time.sleep(2)\n",
    "    input = driver.find_element(\"xpath\", \"//*[@id='regressor']\")\n",
    "    input.send_keys(model_type)\n",
    "    time.sleep(2)\n",
    "    input = driver.find_element(\"xpath\", \"//*[@name='max_depth']\")\n",
    "    input.send_keys(max_depth)\n",
    "    time.sleep(2)\n",
    "    input = driver.find_element(\"xpath\", \"//*[@name='n_estimators']\")\n",
    "    input.send_keys(estimators)\n",
    "    time.sleep(2)\n",
    "    click(driver,\"//button[contains(text(), 'Save Model')]\")\n",
    "    click(driver,\"//button[contains(text(), 'Refresh Table')]\")\n",
    "\n",
    "# create_model(driver, \"usr000_model1\", \"RandomForestRegressor\", 100, 2):"
   ]
  },
  {
   "cell_type": "markdown",
   "metadata": {},
   "source": [
    "## predict"
   ]
  },
  {
   "cell_type": "code",
   "execution_count": 242,
   "metadata": {},
   "outputs": [],
   "source": [
    "def predict(driver, model_name, dataset_name):\n",
    "    click(driver,\"//a[contains(text(), 'Predict')]\")  \n",
    "    input = driver.find_element(\"xpath\", \"//*[@name='model_root']\")\n",
    "    input.send_keys(model_name)\n",
    "    time.sleep(2)\n",
    "    input = driver.find_element(\"xpath\", \"//*[@name='dataset_root']\")\n",
    "    input.send_keys(dataset_name)\n",
    "    time.sleep(2)\n",
    "    click(driver,\"//button[contains(text(), 'Execute Prediction')]\") \n",
    "\n",
    "#predict(driver, \"usr000_model1\", \"sales_dataset\" )"
   ]
  },
  {
   "cell_type": "markdown",
   "metadata": {},
   "source": [
    "## map columns"
   ]
  },
  {
   "cell_type": "code",
   "execution_count": 243,
   "metadata": {},
   "outputs": [],
   "source": [
    "def map_columns(driver, date_col, y_col, filter_col, clave, resampling, steps):\n",
    "    time.sleep(3)\n",
    "    input = driver.find_element(\"xpath\", \"//*[@name='date_column']\")\n",
    "    input.send_keys(date_col)\n",
    "    time.sleep(2)\n",
    "    input = driver.find_element(\"xpath\", \"//*[@name='y_column']\")\n",
    "    input.send_keys(y_col)\n",
    "    time.sleep(2)\n",
    "    input = driver.find_element(\"xpath\", \"//*[@name='filter_column']\")\n",
    "    input.send_keys(filter_col)\n",
    "    time.sleep(2)\n",
    "    input = driver.find_element(\"xpath\", \"//*[@name='clave']\")\n",
    "    input.send_keys(clave)\n",
    "    time.sleep(2)\n",
    "    input = driver.find_element(\"xpath\", \"//*[@name='resampling_rule']\")\n",
    "    input.send_keys(resampling)\n",
    "    time.sleep(2)\n",
    "    input = driver.find_element(\"xpath\", \"//*[@name='steps']\")\n",
    "    input.clear()\n",
    "    input.send_keys(steps)\n",
    "    time.sleep(2)\n",
    "    click(driver,\"//button[contains(text(), 'Submit')]\") \n",
    "    click(driver,\"//a[contains(text(), 'View Forecast Plot')]\") \n",
    "    driver.switch_to.window(driver.window_handles[0])\n"
   ]
  },
  {
   "cell_type": "markdown",
   "metadata": {},
   "source": []
  },
  {
   "cell_type": "code",
   "execution_count": null,
   "metadata": {},
   "outputs": [],
   "source": []
  },
  {
   "cell_type": "markdown",
   "metadata": {},
   "source": [
    "# MAIN"
   ]
  },
  {
   "cell_type": "code",
   "execution_count": 244,
   "metadata": {},
   "outputs": [],
   "source": [
    "datasets = [\"C:\\\\Users\\\\david\\\\Downloads\\\\retail_sales_dataset.csv\",\"C:\\\\Users\\\\david\\\\Downloads\\\\retail_sales_dataset1.csv\",\"C:\\\\Users\\\\david\\\\Downloads\\\\retail_sales_dataset2.csv\"]\n",
    "regressors = [\"LGBMRegressor\",\"RandomForestRegressor\"]\n",
    "targets = [\"Quantity\", \"Total Amount\"]\n",
    "filter = \"Product Category\"\n",
    "clave = [\"Beauty\", \"Clothing\", \"Electronics\"]"
   ]
  },
  {
   "cell_type": "code",
   "execution_count": 245,
   "metadata": {},
   "outputs": [],
   "source": [
    "from selenium import webdriver\n",
    "import time\n",
    "import random"
   ]
  },
  {
   "cell_type": "code",
   "execution_count": 246,
   "metadata": {},
   "outputs": [],
   "source": [
    "datasets = [\"C:\\\\Users\\\\david\\\\Downloads\\\\retail_sales_dataset.csv\",\"C:\\\\Users\\\\david\\\\Downloads\\\\retail_sales_dataset1.csv\",\"C:\\\\Users\\\\david\\\\Downloads\\\\retail_sales_dataset2.csv\"]\n",
    "regressors = [\"LGBMRegressor\",\"RandomForestRegressor\"]\n",
    "targets = [\"Quantity\", \"Total Amount\"]\n",
    "filter = \"Product Category\"\n",
    "clave = [\"Beauty\", \"Clothing\", \"Electronics\"]\n",
    "countries = [\"mx\", \"ad\", \"ae\", \"ar\", \"au\", \"br\", \"us\", \"pe\", \"pa\"]\n",
    "resampling_options = [\"Daily\", \"Weekly\", \"Monthly\"]"
   ]
  },
  {
   "cell_type": "code",
   "execution_count": 247,
   "metadata": {},
   "outputs": [],
   "source": [
    "def test(user_start):\n",
    "    for i in range(user_start, user_start + 50):\n",
    "        username = f\"usr{i:03d}\"\n",
    "        password = \"0000\"\n",
    "        country = random.choice(countries)\n",
    "        email = f\"{username}@gmail.com.{country}\"\n",
    "        display_name = username\n",
    "        dataset = random.choice(datasets)\n",
    "        regressor = random.choice(regressors)\n",
    "        target = random.choice(targets)\n",
    "        clave_value = random.choice(clave)\n",
    "        depth = random.randint(50, 100)\n",
    "        n_estimators = random.randint(2, 7)\n",
    "        resampling = random.choice(resampling_options)\n",
    "        steps = random.randint(2,5)\n",
    "\n",
    "        driver = open_session()\n",
    "        signup(driver, username, password, email, display_name)\n",
    "        login(driver, username, password)\n",
    "        load_dataset(driver, dataset, f\"{username}_dataset\")\n",
    "        create_model(driver, f\"{username}_model1\", regressor, depth, n_estimators)\n",
    "        predict(driver, f\"{username}_model1\", f\"{username}_dataset\")\n",
    "        map_columns(driver, \"Date\", target, filter, clave_value, resampling, steps)\n",
    "        click(driver,\"//a[contains(text(), 'Results')]\") \n",
    "        click(driver,\"//a[contains(text(), 'Contact')]\") \n",
    "        click(driver,\"//a[contains(text(), 'Model Description')]\") \n",
    "        click(driver,\"//a[contains(text(), 'User Page')]\") \n",
    "        # Cierra el navegador al finalizar\n",
    "        driver.quit()"
   ]
  },
  {
   "cell_type": "code",
   "execution_count": 248,
   "metadata": {},
   "outputs": [
    {
     "ename": "NoSuchElementException",
     "evalue": "Message: no such element: Unable to locate element: {\"method\":\"xpath\",\"selector\":\"//a[contains(text(), 'View Forecast Plot')]\"}\n  (Session info: chrome=125.0.6422.78); For documentation on this error, please visit: https://www.selenium.dev/documentation/webdriver/troubleshooting/errors#no-such-element-exception\nStacktrace:\n\tGetHandleVerifier [0x00007FF6F2F41F22+60322]\n\t(No symbol) [0x00007FF6F2EBCE99]\n\t(No symbol) [0x00007FF6F2D77EBA]\n\t(No symbol) [0x00007FF6F2DC7676]\n\t(No symbol) [0x00007FF6F2DC773C]\n\t(No symbol) [0x00007FF6F2E0E967]\n\t(No symbol) [0x00007FF6F2DEC25F]\n\t(No symbol) [0x00007FF6F2E0BC80]\n\t(No symbol) [0x00007FF6F2DEBFC3]\n\t(No symbol) [0x00007FF6F2DB9617]\n\t(No symbol) [0x00007FF6F2DBA211]\n\tGetHandleVerifier [0x00007FF6F325946D+3301613]\n\tGetHandleVerifier [0x00007FF6F32A3693+3605267]\n\tGetHandleVerifier [0x00007FF6F3299410+3563664]\n\tGetHandleVerifier [0x00007FF6F2FF42F6+790390]\n\t(No symbol) [0x00007FF6F2EC74DF]\n\t(No symbol) [0x00007FF6F2EC33D4]\n\t(No symbol) [0x00007FF6F2EC3562]\n\t(No symbol) [0x00007FF6F2EB2F6F]\n\tBaseThreadInitThunk [0x00007FFC0219257D+29]\n\tRtlUserThreadStart [0x00007FFC0290AA48+40]\n",
     "output_type": "error",
     "traceback": [
      "\u001b[1;31m---------------------------------------------------------------------------\u001b[0m",
      "\u001b[1;31mNoSuchElementException\u001b[0m                    Traceback (most recent call last)",
      "Cell \u001b[1;32mIn[248], line 1\u001b[0m\n\u001b[1;32m----> 1\u001b[0m \u001b[43mtest\u001b[49m\u001b[43m(\u001b[49m\u001b[38;5;241;43m41\u001b[39;49m\u001b[43m)\u001b[49m\n",
      "Cell \u001b[1;32mIn[247], line 23\u001b[0m, in \u001b[0;36mtest\u001b[1;34m(user_start)\u001b[0m\n\u001b[0;32m     21\u001b[0m create_model(driver, \u001b[38;5;124mf\u001b[39m\u001b[38;5;124m\"\u001b[39m\u001b[38;5;132;01m{\u001b[39;00musername\u001b[38;5;132;01m}\u001b[39;00m\u001b[38;5;124m_model1\u001b[39m\u001b[38;5;124m\"\u001b[39m, regressor, depth, n_estimators)\n\u001b[0;32m     22\u001b[0m predict(driver, \u001b[38;5;124mf\u001b[39m\u001b[38;5;124m\"\u001b[39m\u001b[38;5;132;01m{\u001b[39;00musername\u001b[38;5;132;01m}\u001b[39;00m\u001b[38;5;124m_model1\u001b[39m\u001b[38;5;124m\"\u001b[39m, \u001b[38;5;124mf\u001b[39m\u001b[38;5;124m\"\u001b[39m\u001b[38;5;132;01m{\u001b[39;00musername\u001b[38;5;132;01m}\u001b[39;00m\u001b[38;5;124m_dataset\u001b[39m\u001b[38;5;124m\"\u001b[39m)\n\u001b[1;32m---> 23\u001b[0m \u001b[43mmap_columns\u001b[49m\u001b[43m(\u001b[49m\u001b[43mdriver\u001b[49m\u001b[43m,\u001b[49m\u001b[43m \u001b[49m\u001b[38;5;124;43m\"\u001b[39;49m\u001b[38;5;124;43mDate\u001b[39;49m\u001b[38;5;124;43m\"\u001b[39;49m\u001b[43m,\u001b[49m\u001b[43m \u001b[49m\u001b[43mtarget\u001b[49m\u001b[43m,\u001b[49m\u001b[43m \u001b[49m\u001b[38;5;28;43mfilter\u001b[39;49m\u001b[43m,\u001b[49m\u001b[43m \u001b[49m\u001b[43mclave_value\u001b[49m\u001b[43m,\u001b[49m\u001b[43m \u001b[49m\u001b[43mresampling\u001b[49m\u001b[43m,\u001b[49m\u001b[43m \u001b[49m\u001b[43msteps\u001b[49m\u001b[43m)\u001b[49m\n\u001b[0;32m     24\u001b[0m click(driver,\u001b[38;5;124m\"\u001b[39m\u001b[38;5;124m//a[contains(text(), \u001b[39m\u001b[38;5;124m'\u001b[39m\u001b[38;5;124mResults\u001b[39m\u001b[38;5;124m'\u001b[39m\u001b[38;5;124m)]\u001b[39m\u001b[38;5;124m\"\u001b[39m) \n\u001b[0;32m     25\u001b[0m click(driver,\u001b[38;5;124m\"\u001b[39m\u001b[38;5;124m//a[contains(text(), \u001b[39m\u001b[38;5;124m'\u001b[39m\u001b[38;5;124mContact\u001b[39m\u001b[38;5;124m'\u001b[39m\u001b[38;5;124m)]\u001b[39m\u001b[38;5;124m\"\u001b[39m) \n",
      "Cell \u001b[1;32mIn[243], line 23\u001b[0m, in \u001b[0;36mmap_columns\u001b[1;34m(driver, date_col, y_col, filter_col, clave, resampling, steps)\u001b[0m\n\u001b[0;32m     21\u001b[0m time\u001b[38;5;241m.\u001b[39msleep(\u001b[38;5;241m2\u001b[39m)\n\u001b[0;32m     22\u001b[0m click(driver,\u001b[38;5;124m\"\u001b[39m\u001b[38;5;124m//button[contains(text(), \u001b[39m\u001b[38;5;124m'\u001b[39m\u001b[38;5;124mSubmit\u001b[39m\u001b[38;5;124m'\u001b[39m\u001b[38;5;124m)]\u001b[39m\u001b[38;5;124m\"\u001b[39m) \n\u001b[1;32m---> 23\u001b[0m \u001b[43mclick\u001b[49m\u001b[43m(\u001b[49m\u001b[43mdriver\u001b[49m\u001b[43m,\u001b[49m\u001b[38;5;124;43m\"\u001b[39;49m\u001b[38;5;124;43m//a[contains(text(), \u001b[39;49m\u001b[38;5;124;43m'\u001b[39;49m\u001b[38;5;124;43mView Forecast Plot\u001b[39;49m\u001b[38;5;124;43m'\u001b[39;49m\u001b[38;5;124;43m)]\u001b[39;49m\u001b[38;5;124;43m\"\u001b[39;49m\u001b[43m)\u001b[49m \n\u001b[0;32m     24\u001b[0m driver\u001b[38;5;241m.\u001b[39mswitch_to\u001b[38;5;241m.\u001b[39mwindow(driver\u001b[38;5;241m.\u001b[39mwindow_handles[\u001b[38;5;241m0\u001b[39m])\n",
      "Cell \u001b[1;32mIn[239], line 2\u001b[0m, in \u001b[0;36mclick\u001b[1;34m(driver, xpath)\u001b[0m\n\u001b[0;32m      1\u001b[0m \u001b[38;5;28;01mdef\u001b[39;00m \u001b[38;5;21mclick\u001b[39m(driver, xpath):\n\u001b[1;32m----> 2\u001b[0m     signup_link \u001b[38;5;241m=\u001b[39m \u001b[43mdriver\u001b[49m\u001b[38;5;241;43m.\u001b[39;49m\u001b[43mfind_element\u001b[49m\u001b[43m(\u001b[49m\u001b[38;5;124;43m\"\u001b[39;49m\u001b[38;5;124;43mxpath\u001b[39;49m\u001b[38;5;124;43m\"\u001b[39;49m\u001b[43m,\u001b[49m\u001b[43mxpath\u001b[49m\u001b[43m)\u001b[49m\n\u001b[0;32m      3\u001b[0m     signup_link\u001b[38;5;241m.\u001b[39mclick()\n\u001b[0;32m      4\u001b[0m     time\u001b[38;5;241m.\u001b[39msleep(\u001b[38;5;241m2\u001b[39m)\n",
      "File \u001b[1;32mc:\\Users\\david\\AppData\\Local\\Programs\\Python\\Python311\\Lib\\site-packages\\selenium\\webdriver\\remote\\webdriver.py:741\u001b[0m, in \u001b[0;36mWebDriver.find_element\u001b[1;34m(self, by, value)\u001b[0m\n\u001b[0;32m    738\u001b[0m     by \u001b[38;5;241m=\u001b[39m By\u001b[38;5;241m.\u001b[39mCSS_SELECTOR\n\u001b[0;32m    739\u001b[0m     value \u001b[38;5;241m=\u001b[39m \u001b[38;5;124mf\u001b[39m\u001b[38;5;124m'\u001b[39m\u001b[38;5;124m[name=\u001b[39m\u001b[38;5;124m\"\u001b[39m\u001b[38;5;132;01m{\u001b[39;00mvalue\u001b[38;5;132;01m}\u001b[39;00m\u001b[38;5;124m\"\u001b[39m\u001b[38;5;124m]\u001b[39m\u001b[38;5;124m'\u001b[39m\n\u001b[1;32m--> 741\u001b[0m \u001b[38;5;28;01mreturn\u001b[39;00m \u001b[38;5;28;43mself\u001b[39;49m\u001b[38;5;241;43m.\u001b[39;49m\u001b[43mexecute\u001b[49m\u001b[43m(\u001b[49m\u001b[43mCommand\u001b[49m\u001b[38;5;241;43m.\u001b[39;49m\u001b[43mFIND_ELEMENT\u001b[49m\u001b[43m,\u001b[49m\u001b[43m \u001b[49m\u001b[43m{\u001b[49m\u001b[38;5;124;43m\"\u001b[39;49m\u001b[38;5;124;43musing\u001b[39;49m\u001b[38;5;124;43m\"\u001b[39;49m\u001b[43m:\u001b[49m\u001b[43m \u001b[49m\u001b[43mby\u001b[49m\u001b[43m,\u001b[49m\u001b[43m \u001b[49m\u001b[38;5;124;43m\"\u001b[39;49m\u001b[38;5;124;43mvalue\u001b[39;49m\u001b[38;5;124;43m\"\u001b[39;49m\u001b[43m:\u001b[49m\u001b[43m \u001b[49m\u001b[43mvalue\u001b[49m\u001b[43m}\u001b[49m\u001b[43m)\u001b[49m[\u001b[38;5;124m\"\u001b[39m\u001b[38;5;124mvalue\u001b[39m\u001b[38;5;124m\"\u001b[39m]\n",
      "File \u001b[1;32mc:\\Users\\david\\AppData\\Local\\Programs\\Python\\Python311\\Lib\\site-packages\\selenium\\webdriver\\remote\\webdriver.py:347\u001b[0m, in \u001b[0;36mWebDriver.execute\u001b[1;34m(self, driver_command, params)\u001b[0m\n\u001b[0;32m    345\u001b[0m response \u001b[38;5;241m=\u001b[39m \u001b[38;5;28mself\u001b[39m\u001b[38;5;241m.\u001b[39mcommand_executor\u001b[38;5;241m.\u001b[39mexecute(driver_command, params)\n\u001b[0;32m    346\u001b[0m \u001b[38;5;28;01mif\u001b[39;00m response:\n\u001b[1;32m--> 347\u001b[0m     \u001b[38;5;28;43mself\u001b[39;49m\u001b[38;5;241;43m.\u001b[39;49m\u001b[43merror_handler\u001b[49m\u001b[38;5;241;43m.\u001b[39;49m\u001b[43mcheck_response\u001b[49m\u001b[43m(\u001b[49m\u001b[43mresponse\u001b[49m\u001b[43m)\u001b[49m\n\u001b[0;32m    348\u001b[0m     response[\u001b[38;5;124m\"\u001b[39m\u001b[38;5;124mvalue\u001b[39m\u001b[38;5;124m\"\u001b[39m] \u001b[38;5;241m=\u001b[39m \u001b[38;5;28mself\u001b[39m\u001b[38;5;241m.\u001b[39m_unwrap_value(response\u001b[38;5;241m.\u001b[39mget(\u001b[38;5;124m\"\u001b[39m\u001b[38;5;124mvalue\u001b[39m\u001b[38;5;124m\"\u001b[39m, \u001b[38;5;28;01mNone\u001b[39;00m))\n\u001b[0;32m    349\u001b[0m     \u001b[38;5;28;01mreturn\u001b[39;00m response\n",
      "File \u001b[1;32mc:\\Users\\david\\AppData\\Local\\Programs\\Python\\Python311\\Lib\\site-packages\\selenium\\webdriver\\remote\\errorhandler.py:229\u001b[0m, in \u001b[0;36mErrorHandler.check_response\u001b[1;34m(self, response)\u001b[0m\n\u001b[0;32m    227\u001b[0m         alert_text \u001b[38;5;241m=\u001b[39m value[\u001b[38;5;124m\"\u001b[39m\u001b[38;5;124malert\u001b[39m\u001b[38;5;124m\"\u001b[39m]\u001b[38;5;241m.\u001b[39mget(\u001b[38;5;124m\"\u001b[39m\u001b[38;5;124mtext\u001b[39m\u001b[38;5;124m\"\u001b[39m)\n\u001b[0;32m    228\u001b[0m     \u001b[38;5;28;01mraise\u001b[39;00m exception_class(message, screen, stacktrace, alert_text)  \u001b[38;5;66;03m# type: ignore[call-arg]  # mypy is not smart enough here\u001b[39;00m\n\u001b[1;32m--> 229\u001b[0m \u001b[38;5;28;01mraise\u001b[39;00m exception_class(message, screen, stacktrace)\n",
      "\u001b[1;31mNoSuchElementException\u001b[0m: Message: no such element: Unable to locate element: {\"method\":\"xpath\",\"selector\":\"//a[contains(text(), 'View Forecast Plot')]\"}\n  (Session info: chrome=125.0.6422.78); For documentation on this error, please visit: https://www.selenium.dev/documentation/webdriver/troubleshooting/errors#no-such-element-exception\nStacktrace:\n\tGetHandleVerifier [0x00007FF6F2F41F22+60322]\n\t(No symbol) [0x00007FF6F2EBCE99]\n\t(No symbol) [0x00007FF6F2D77EBA]\n\t(No symbol) [0x00007FF6F2DC7676]\n\t(No symbol) [0x00007FF6F2DC773C]\n\t(No symbol) [0x00007FF6F2E0E967]\n\t(No symbol) [0x00007FF6F2DEC25F]\n\t(No symbol) [0x00007FF6F2E0BC80]\n\t(No symbol) [0x00007FF6F2DEBFC3]\n\t(No symbol) [0x00007FF6F2DB9617]\n\t(No symbol) [0x00007FF6F2DBA211]\n\tGetHandleVerifier [0x00007FF6F325946D+3301613]\n\tGetHandleVerifier [0x00007FF6F32A3693+3605267]\n\tGetHandleVerifier [0x00007FF6F3299410+3563664]\n\tGetHandleVerifier [0x00007FF6F2FF42F6+790390]\n\t(No symbol) [0x00007FF6F2EC74DF]\n\t(No symbol) [0x00007FF6F2EC33D4]\n\t(No symbol) [0x00007FF6F2EC3562]\n\t(No symbol) [0x00007FF6F2EB2F6F]\n\tBaseThreadInitThunk [0x00007FFC0219257D+29]\n\tRtlUserThreadStart [0x00007FFC0290AA48+40]\n"
     ]
    }
   ],
   "source": [
    "test(41)"
   ]
  },
  {
   "cell_type": "code",
   "execution_count": null,
   "metadata": {},
   "outputs": [],
   "source": []
  }
 ],
 "metadata": {
  "kernelspec": {
   "display_name": "Python 3",
   "language": "python",
   "name": "python3"
  },
  "language_info": {
   "codemirror_mode": {
    "name": "ipython",
    "version": 3
   },
   "file_extension": ".py",
   "mimetype": "text/x-python",
   "name": "python",
   "nbconvert_exporter": "python",
   "pygments_lexer": "ipython3",
   "version": "3.11.4"
  }
 },
 "nbformat": 4,
 "nbformat_minor": 2
}
